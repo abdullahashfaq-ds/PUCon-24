{
 "cells": [
  {
   "cell_type": "code",
   "execution_count": 1,
   "id": "2f74a711-b3cd-4f62-b104-9bb03a38980f",
   "metadata": {},
   "outputs": [],
   "source": [
    "import pandas as pd"
   ]
  },
  {
   "cell_type": "code",
   "execution_count": 2,
   "id": "e92821c8-de93-40b9-9c4e-2e5b355792ae",
   "metadata": {},
   "outputs": [
    {
     "data": {
      "text/plain": [
       "['../Dataset/Dataset/pucon24_ai_train_1.csv',\n",
       " '../Dataset/Dataset/pucon24_ai_train_2.csv',\n",
       " '../Dataset/Dataset/pucon24_ai_train_3.csv',\n",
       " '../Dataset/Dataset/pucon24_ai_train_4.csv',\n",
       " '../Dataset/Dataset/pucon24_ai_train_5.csv',\n",
       " '../Dataset/Dataset/pucon24_ai_train_6.csv',\n",
       " '../Dataset/Dataset/pucon24_ai_train_7.csv',\n",
       " '../Dataset/Dataset/pucon24_ai_train_8.csv',\n",
       " '../Dataset/Dataset/pucon24_ai_train_9.csv',\n",
       " '../Dataset/Dataset/pucon24_ai_train_10.csv',\n",
       " '../Dataset/Dataset/pucon24_ai_train_11.csv',\n",
       " '../Dataset/Dataset/pucon24_ai_train_12.csv']"
      ]
     },
     "execution_count": 2,
     "metadata": {},
     "output_type": "execute_result"
    }
   ],
   "source": [
    "file_names = [f'../Dataset/Dataset/pucon24_ai_train_{i}.csv' for i in range(1, 13)]\n",
    "file_names"
   ]
  },
  {
   "cell_type": "code",
   "execution_count": 3,
   "id": "f2d222ce-8a75-4660-8bf1-18b2605b846b",
   "metadata": {},
   "outputs": [],
   "source": [
    "data_frames = [pd.read_csv(file) for file in file_names]"
   ]
  },
  {
   "cell_type": "code",
   "execution_count": 4,
   "id": "f99585b6-d584-46b9-96b8-5091b93d1c58",
   "metadata": {},
   "outputs": [],
   "source": [
    "df = pd.concat(data_frames, ignore_index=True)"
   ]
  },
  {
   "cell_type": "code",
   "execution_count": 5,
   "id": "493757af-363c-4ea1-926f-38278be46e37",
   "metadata": {},
   "outputs": [
    {
     "data": {
      "text/plain": [
       "(553952, 18)"
      ]
     },
     "execution_count": 5,
     "metadata": {},
     "output_type": "execute_result"
    }
   ],
   "source": [
    "df.shape"
   ]
  },
  {
   "cell_type": "code",
   "execution_count": 6,
   "id": "962c2115-9608-4c16-b50f-13f453ab52cd",
   "metadata": {},
   "outputs": [],
   "source": [
    "df.to_csv('../Dataset/Dataset/Training.csv', index=False)"
   ]
  },
  {
   "cell_type": "code",
   "execution_count": null,
   "id": "8c3e91ee-a230-443c-9fc6-589b55379826",
   "metadata": {},
   "outputs": [],
   "source": []
  }
 ],
 "metadata": {
  "kernelspec": {
   "display_name": "Python 3 (ipykernel)",
   "language": "python",
   "name": "python3"
  },
  "language_info": {
   "codemirror_mode": {
    "name": "ipython",
    "version": 3
   },
   "file_extension": ".py",
   "mimetype": "text/x-python",
   "name": "python",
   "nbconvert_exporter": "python",
   "pygments_lexer": "ipython3",
   "version": "3.11.1"
  }
 },
 "nbformat": 4,
 "nbformat_minor": 5
}
