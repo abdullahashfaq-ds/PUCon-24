{
 "cells": [
  {
   "cell_type": "code",
   "execution_count": 1,
   "id": "5530dabd-d232-4e90-b028-a08218a5bc0c",
   "metadata": {},
   "outputs": [],
   "source": [
    "import os\n",
    "import requests\n",
    "from credentials import ACCESS, BUCKET_NAME, DATABASE_URL"
   ]
  },
  {
   "cell_type": "code",
   "execution_count": 2,
   "id": "b9a110c9-b679-4458-b9ca-dedac57876a2",
   "metadata": {},
   "outputs": [],
   "source": [
    "def download_file(file_name):\n",
    "    url = f'{DATABASE_URL}/{ACCESS}/{BUCKET_NAME}/{file_name}'\n",
    "    response = requests.get(url)\n",
    "    \n",
    "    if response.status_code == 200:\n",
    "        with open(f'./Dataset/{file_name}', 'wb') as file:\n",
    "            file.write(response.content)\n",
    "        print(f'File {file_name} saved successfully.')\n",
    "    else:\n",
    "        print(f'Failed to download file. Status code: {response.status_code}')"
   ]
  },
  {
   "cell_type": "code",
   "execution_count": 3,
   "id": "91af70f9-a069-4736-a572-c48401a2dd8d",
   "metadata": {},
   "outputs": [
    {
     "data": {
      "text/plain": [
       "['pucon24_ai_train_1.csv',\n",
       " 'pucon24_ai_train_2.csv',\n",
       " 'pucon24_ai_train_3.csv',\n",
       " 'pucon24_ai_train_4.csv',\n",
       " 'pucon24_ai_train_5.csv',\n",
       " 'pucon24_ai_train_6.csv',\n",
       " 'pucon24_ai_train_7.csv',\n",
       " 'pucon24_ai_train_8.csv',\n",
       " 'pucon24_ai_train_9.csv',\n",
       " 'pucon24_ai_train_10.csv',\n",
       " 'pucon24_ai_train_11.csv',\n",
       " 'pucon24_ai_train_12.csv',\n",
       " 'pucon24-ai-test.csv',\n",
       " 'pucon24-ai-sample_submission.csv',\n",
       " 'pucon24_ai_description.txt']"
      ]
     },
     "execution_count": 3,
     "metadata": {},
     "output_type": "execute_result"
    }
   ],
   "source": [
    "file_names = [f'pucon24_ai_train_{i}.csv' for i in range(1, 13)]\n",
    "file_names += ['pucon24-ai-test.csv', 'pucon24-ai-sample_submission.csv', 'pucon24_ai_description.txt']\n",
    "file_names"
   ]
  },
  {
   "cell_type": "code",
   "execution_count": 4,
   "id": "a365ac18-6058-43c8-bfc4-a85de72138a2",
   "metadata": {},
   "outputs": [
    {
     "name": "stdout",
     "output_type": "stream",
     "text": [
      "File pucon24_ai_train_1.csv saved successfully.\n",
      "File pucon24_ai_train_2.csv saved successfully.\n",
      "File pucon24_ai_train_3.csv saved successfully.\n",
      "File pucon24_ai_train_4.csv saved successfully.\n",
      "File pucon24_ai_train_5.csv saved successfully.\n",
      "File pucon24_ai_train_6.csv saved successfully.\n",
      "File pucon24_ai_train_7.csv saved successfully.\n",
      "File pucon24_ai_train_8.csv saved successfully.\n",
      "File pucon24_ai_train_9.csv saved successfully.\n",
      "File pucon24_ai_train_10.csv saved successfully.\n",
      "File pucon24_ai_train_11.csv saved successfully.\n",
      "File pucon24_ai_train_12.csv saved successfully.\n",
      "File pucon24-ai-test.csv saved successfully.\n",
      "File pucon24-ai-sample_submission.csv saved successfully.\n",
      "File pucon24_ai_description.txt saved successfully.\n"
     ]
    }
   ],
   "source": [
    "for file in file_names:\n",
    "    download_file(file)"
   ]
  },
  {
   "cell_type": "code",
   "execution_count": null,
   "id": "a2d52ee6-46df-45e8-8c18-88e518186577",
   "metadata": {},
   "outputs": [],
   "source": []
  }
 ],
 "metadata": {
  "kernelspec": {
   "display_name": "Python 3 (ipykernel)",
   "language": "python",
   "name": "python3"
  },
  "language_info": {
   "codemirror_mode": {
    "name": "ipython",
    "version": 3
   },
   "file_extension": ".py",
   "mimetype": "text/x-python",
   "name": "python",
   "nbconvert_exporter": "python",
   "pygments_lexer": "ipython3",
   "version": "3.11.1"
  }
 },
 "nbformat": 4,
 "nbformat_minor": 5
}
